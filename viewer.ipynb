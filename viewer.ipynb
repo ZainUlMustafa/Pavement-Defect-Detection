{
 "cells": [
  {
   "cell_type": "code",
   "execution_count": 2,
   "metadata": {},
   "outputs": [
    {
     "name": "stdout",
     "output_type": "stream",
     "text": [
      "['.DS_Store', '002_png.rf.9b7a98ff8d0a227ff2b18d37395e9af5.jpg', '002_png.rf.9b7a98ff8d0a227ff2b18d37395e9af5.txt', '004_png.rf.5d0d90310dc584362c2fe26812b68ce7.jpg', '004_png.rf.5d0d90310dc584362c2fe26812b68ce7.txt', '005_png.rf.c1d49e5779519d7a351ec618fd1c3c85.jpg', '005_png.rf.c1d49e5779519d7a351ec618fd1c3c85.txt', '006_png.rf.d3ea4718de2a10770b003106e9a86ad7.jpg', '006_png.rf.d3ea4718de2a10770b003106e9a86ad7.txt', '007_png.rf.cc65b5c643e28735dac4aeeb92d043be.jpg']\n"
     ]
    },
    {
     "data": {
      "image/png": "[encoded data removed]",
      "text/plain": [
       "<Figure size 640x480 with 1 Axes>"
      ]
     },
     "metadata": {},
     "output_type": "display_data"
    }
   ],
   "source": [
    "import os\n",
    "from PIL import Image, ImageDraw\n",
    "import matplotlib.pyplot as plt\n",
    "from matplotlib.widgets import Button\n",
    "\n",
    "# Function to read annotation file\n",
    "def read_annotation(file_path):\n",
    "    with open(file_path, 'r') as f:\n",
    "        annotations = f.readlines()\n",
    "    return annotations\n",
    "\n",
    "# Function to display image with bounding box\n",
    "def display_image_with_bbox(image_path, annotations):\n",
    "    img = Image.open(image_path)\n",
    "    draw = ImageDraw.Draw(img)\n",
    "    for annotation in annotations:\n",
    "        class_id, x_center, y_center, width, height = map(float, annotation.split())\n",
    "        # Convert YOLO format to bounding box coordinates\n",
    "        x1 = int((x_center - width / 2) * img.width)\n",
    "        y1 = int((y_center - height / 2) * img.height)\n",
    "        x2 = int((x_center + width / 2) * img.width)\n",
    "        y2 = int((y_center + height / 2) * img.height)\n",
    "        # Draw bounding box\n",
    "        draw.rectangle([x1, y1, x2, y2], outline=\"red\", width=3)\n",
    "    plt.imshow(img)\n",
    "    plt.axis('off')\n",
    "    plt.show()\n",
    "\n",
    "# Function to load previous image\n",
    "def load_previous(event):\n",
    "    global current_index\n",
    "    current_index -= 1\n",
    "    if current_index < 0:\n",
    "        current_index = len(file_names) - 1\n",
    "    display_image()\n",
    "\n",
    "# Function to load next image\n",
    "def load_next(event):\n",
    "    global current_index\n",
    "    current_index += 1\n",
    "    if current_index >= len(file_names):\n",
    "        current_index = 0\n",
    "    display_image()\n",
    "\n",
    "# Function to display image\n",
    "def display_image():\n",
    "    file_name = file_names[current_index]\n",
    "    if file_name.endswith(\".jpg\"):\n",
    "        image_path = os.path.join(folder, file_name)\n",
    "        annotation_path = os.path.join(folder, file_name.replace(\".jpg\", \".txt\"))\n",
    "        annotations = read_annotation(annotation_path)\n",
    "        display_image_with_bbox(image_path, annotations)\n",
    "\n",
    "# Get list of image and annotation files\n",
    "folder = \"custom_data\"\n",
    "file_names = sorted(os.listdir(folder))\n",
    "print(file_names[:10])\n",
    "current_index = 0\n",
    "\n",
    "# Create next and previous buttons\n",
    "fig, ax = plt.subplots()\n",
    "plt.subplots_adjust(bottom=0.2)\n",
    "btn_prev = Button(ax, 'Previous')\n",
    "btn_prev.on_clicked(load_previous)\n",
    "btn_next = Button(ax, 'Next')\n",
    "btn_next.on_clicked(load_next)\n",
    "\n",
    "# Display first image\n",
    "display_image()\n",
    "\n",
    "plt.show()\n"
   ]
  }
 ],
 "metadata": {
  "kernelspec": {
   "display_name": "dvenv",
   "language": "python",
   "name": "python3"
  },
  "language_info": {
   "codemirror_mode": {
    "name": "ipython",
    "version": 3
   },
   "file_extension": ".py",
   "mimetype": "text/x-python",
   "name": "python",
   "nbconvert_exporter": "python",
   "pygments_lexer": "ipython3",
   "version": "3.11.2"
  }
 },
 "nbformat": 4,
 "nbformat_minor": 2
}
